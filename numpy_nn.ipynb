{
  "nbformat": 4,
  "nbformat_minor": 0,
  "metadata": {
    "colab": {
      "name": "numpy_nn.ipynb",
      "provenance": [],
      "collapsed_sections": []
    },
    "kernelspec": {
      "name": "python3",
      "display_name": "Python 3"
    }
  },
  "cells": [
    {
      "cell_type": "markdown",
      "metadata": {
        "id": "Z4tcQ2V1fhT8",
        "colab_type": "text"
      },
      "source": [
        "### Zadania\n",
        "\n",
        "1. Dodać iteracje do treningu\n",
        "2. Dodać rysunek zmian strat w kolejnych iteracjach"
      ]
    },
    {
      "cell_type": "code",
      "metadata": {
        "id": "IqgyOy4Qso7v",
        "colab_type": "code",
        "colab": {
          "base_uri": "https://localhost:8080/",
          "height": 35
        },
        "outputId": "7010ff3b-30fb-4a77-a7af-66c760fb3f7c"
      },
      "source": [
        "import numpy as np\n",
        "import matplotlib.pyplot as plt\n",
        "\n",
        "# N is batch size; D_in is input dimension;\n",
        "# H is hidden dimension; D_out is output dimension.\n",
        "N, D_in, H, D_out = 16, 4, 0, 1\n",
        "\n",
        "# Create random input and output data\n",
        "\n",
        "#np. pasażerowie decydujący o kierunku jazdy: zawsze wygrywa kierowca (pierwszy z prawej) - tu prosty przekaz, ostatnia dana ma być przeszła na wyjście\n",
        "\n",
        "x_numpy = np.array(    [[0., 0., 0., 1.],\n",
        "                        [1., 0., 0., 1.],\n",
        "                        [0., 1., 0., 1.],\n",
        "                        [0., 0., 1., 1.],\n",
        "                        [1., 1., 0., 1.],\n",
        "                        [1., 0., 1., 1.],\n",
        "                        [0., 1., 1., 1.],\n",
        "                        [1., 1., 1., 1.],\n",
        "                        [0., 0., 0., 0.],\n",
        "                        [1., 0., 0., 0.],\n",
        "                        [0., 1., 0., 0.],\n",
        "                        [0., 0., 1., 0.],\n",
        "                        [1., 1., 0., 0.],\n",
        "                        [1., 0., 1., 0.],\n",
        "                        [0., 1., 1., 0.],\n",
        "                        [1., 1., 1., 0.]])\n",
        "\n",
        "print(x_numpy.shape) # 16 wierszów, 4 kolumy"
      ],
      "execution_count": 15,
      "outputs": [
        {
          "output_type": "stream",
          "text": [
            "(16, 4)\n"
          ],
          "name": "stdout"
        }
      ]
    },
    {
      "cell_type": "code",
      "metadata": {
        "id": "HyAwvfvmSV4l",
        "colab_type": "code",
        "colab": {
          "base_uri": "https://localhost:8080/",
          "height": 35
        },
        "outputId": "2511f0f9-915a-4121-be5e-73089df7b83b"
      },
      "source": [
        "y_numpy = np.array(     [[1.],\n",
        "                         [1.],\n",
        "                         [1.],\n",
        "                         [1.],\n",
        "                         [1.],\n",
        "                         [1.],\n",
        "                         [1.],\n",
        "                         [1.],\n",
        "                         [0.],\n",
        "                         [0.],\n",
        "                         [0.],\n",
        "                         [0.],\n",
        "                         [0.],\n",
        "                         [0.],\n",
        "                         [0.],\n",
        "                         [0.]])\n",
        "\n",
        "\n",
        "print(y_numpy.shape)"
      ],
      "execution_count": 16,
      "outputs": [
        {
          "output_type": "stream",
          "text": [
            "(16, 1)\n"
          ],
          "name": "stdout"
        }
      ]
    },
    {
      "cell_type": "code",
      "metadata": {
        "id": "7YJNoruLSXgk",
        "colab_type": "code",
        "colab": {
          "base_uri": "https://localhost:8080/",
          "height": 107
        },
        "outputId": "64321996-e53e-4613-e788-af7ab1243acf"
      },
      "source": [
        "# Randomly initialize weights\n",
        "w = np.random.randn(D_in, D_out) #każda z wartości w wierszu danym mnożona tak, by dać jedną oczekiwaną wartość z wiersza y\n",
        "#randn z rozkładu gausowskiego\n",
        "\n",
        "print(w)\n",
        "print(w.shape)"
      ],
      "execution_count": 17,
      "outputs": [
        {
          "output_type": "stream",
          "text": [
            "[[-0.7710212 ]\n",
            " [ 2.38650738]\n",
            " [-0.05518268]\n",
            " [ 0.74032626]]\n",
            "(4, 1)\n"
          ],
          "name": "stdout"
        }
      ]
    },
    {
      "cell_type": "code",
      "metadata": {
        "id": "HPFz65FiPKmn",
        "colab_type": "code",
        "colab": {}
      },
      "source": [
        "learning_rate = 1e-2\n",
        "loss_list = []\n",
        "wlist = []\n",
        "\n"
      ],
      "execution_count": 0,
      "outputs": []
    },
    {
      "cell_type": "code",
      "metadata": {
        "id": "NNm6egQBaLdy",
        "colab_type": "code",
        "colab": {
          "base_uri": "https://localhost:8080/",
          "height": 305
        },
        "outputId": "eb139d53-60ac-4471-9296-0a8af8a4da8c"
      },
      "source": [
        "# Forward pass: compute predicted y\n",
        "y_pred = x_numpy.dot(w)\n",
        "print(y_pred)\n",
        "#pierwsza predykcja: mnożymy wejście przez wagi\n"
      ],
      "execution_count": 19,
      "outputs": [
        {
          "output_type": "stream",
          "text": [
            "[[ 0.74032626]\n",
            " [-0.03069494]\n",
            " [ 3.12683364]\n",
            " [ 0.68514358]\n",
            " [ 2.35581244]\n",
            " [-0.08587763]\n",
            " [ 3.07165096]\n",
            " [ 2.30062975]\n",
            " [ 0.        ]\n",
            " [-0.7710212 ]\n",
            " [ 2.38650738]\n",
            " [-0.05518268]\n",
            " [ 1.61548618]\n",
            " [-0.82620388]\n",
            " [ 2.3313247 ]\n",
            " [ 1.5603035 ]]\n"
          ],
          "name": "stdout"
        }
      ]
    },
    {
      "cell_type": "code",
      "metadata": {
        "id": "pUWfDOFtSgIm",
        "colab_type": "code",
        "colab": {}
      },
      "source": [
        "  # Compute and print loss\n",
        "for i in range(50):\n",
        "  loss = np.square(y_pred - y_numpy).sum() #obliczamy stratę w stosunku do oczekiwanego wyniku\n",
        "\n",
        "  # Backprop to compute gradients of w1 and w2 with respect to loss\n",
        "  grad_y_pred = 2.0 * (y_pred - y_numpy) #liczymy pochodną funkcji y^2 -> a więc 2y\n",
        "  grad_w = x_numpy.T.dot(grad_y_pred)\n",
        "  #liczymy pochodną od funkcji straty\n",
        "  #funkcja straty ma jakiś tam wykres - przesuwamy wagi na wykresie loss(wagi) w stronę minimum loss\n",
        "\n",
        "\n",
        "  # Update weights\n",
        "  w = w - learning_rate * grad_w\n",
        "  y_pred = x_numpy.dot(w)\n",
        "  loss_list.append(loss)\n"
      ],
      "execution_count": 0,
      "outputs": []
    },
    {
      "cell_type": "code",
      "metadata": {
        "id": "KBRbjAooSzs3",
        "colab_type": "code",
        "colab": {}
      },
      "source": [
        ""
      ],
      "execution_count": 0,
      "outputs": []
    },
    {
      "cell_type": "code",
      "metadata": {
        "id": "heXJqSquaVh4",
        "colab_type": "code",
        "colab": {
          "base_uri": "https://localhost:8080/",
          "height": 337
        },
        "outputId": "531f3faf-dcd1-4c55-ac6f-a2479e815e5c"
      },
      "source": [
        "plt.plot(loss_list, label = 'loss')\n",
        "plt.legend()\n",
        "plt.show()\n",
        "print(w) #zeruje pierwsze parametry i jedynkuje ostani"
      ],
      "execution_count": 42,
      "outputs": [
        {
          "output_type": "display_data",
          "data": {
            "image/png": "[encoded data removed]",
            "text/plain": [
              "<Figure size 432x288 with 1 Axes>"
            ]
          },
          "metadata": {
            "tags": []
          }
        },
        {
          "output_type": "stream",
          "text": [
            "[[-2.45246439e-11]\n",
            " [-2.45246393e-11]\n",
            " [-2.45246439e-11]\n",
            " [ 1.00000000e+00]]\n"
          ],
          "name": "stdout"
        }
      ]
    },
    {
      "cell_type": "code",
      "metadata": {
        "id": "j-WQQA9COshP",
        "colab_type": "code",
        "colab": {}
      },
      "source": [
        ""
      ],
      "execution_count": 0,
      "outputs": []
    }
  ]
}