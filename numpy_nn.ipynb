{
  "nbformat": 4,
  "nbformat_minor": 0,
  "metadata": {
    "colab": {
      "name": "numpy_nn.ipynb",
      "provenance": []
    },
    "kernelspec": {
      "name": "python3",
      "display_name": "Python 3"
    }
  },
  "cells": [
    {
      "cell_type": "markdown",
      "metadata": {
        "id": "Z4tcQ2V1fhT8",
        "colab_type": "text"
      },
      "source": [
        "### Zadania\n",
        "\n",
        "1. Dodać iteracje do treningu\n",
        "2. Dodać rysunek zmian strat w kolejnych iteracjach"
      ]
    },
    {
      "cell_type": "code",
      "metadata": {
        "id": "IqgyOy4Qso7v",
        "colab_type": "code",
        "colab": {}
      },
      "source": [
        "import numpy as np\n",
        "import matplotlib.pyplot as plt\n",
        "\n",
        "# N is batch size; D_in is input dimension;\n",
        "# H is hidden dimension; D_out is output dimension.\n",
        "N, D_in, H, D_out = 16, 4, 0, 1\n",
        "\n",
        "# Create random input and output data\n",
        "\n",
        "x_numpy = np.array(    [[0., 0., 0., 1.],\n",
        "                        [1., 0., 0., 1.],\n",
        "                        [0., 1., 0., 1.],\n",
        "                        [0., 0., 1., 1.],\n",
        "                        [1., 1., 0., 1.],\n",
        "                        [1., 0., 1., 1.],\n",
        "                        [0., 1., 1., 1.],\n",
        "                        [1., 1., 1., 1.],\n",
        "                        [0., 0., 0., 0.],\n",
        "                        [1., 0., 0., 0.],\n",
        "                        [0., 1., 0., 0.],\n",
        "                        [0., 0., 1., 0.],\n",
        "                        [1., 1., 0., 0.],\n",
        "                        [1., 0., 1., 0.],\n",
        "                        [0., 1., 1., 0.],\n",
        "                        [1., 1., 1., 0.]])\n",
        "\n",
        "print(x_numpy.shape)"
      ],
      "execution_count": 0,
      "outputs": []
    },
    {
      "cell_type": "code",
      "metadata": {
        "id": "HyAwvfvmSV4l",
        "colab_type": "code",
        "colab": {}
      },
      "source": [
        "y_numpy = np.array(     [[1.],\n",
        "                         [1.],\n",
        "                         [1.],\n",
        "                         [1.],\n",
        "                         [1.],\n",
        "                         [1.],\n",
        "                         [1.],\n",
        "                         [1.],\n",
        "                         [0.],\n",
        "                         [0.],\n",
        "                         [0.],\n",
        "                         [0.],\n",
        "                         [0.],\n",
        "                         [0.],\n",
        "                         [0.],\n",
        "                         [0.]])\n",
        "\n",
        "\n",
        "print(y_numpy.shape)"
      ],
      "execution_count": 0,
      "outputs": []
    },
    {
      "cell_type": "code",
      "metadata": {
        "id": "7YJNoruLSXgk",
        "colab_type": "code",
        "colab": {}
      },
      "source": [
        "# Randomly initialize weights\n",
        "w = np.random.randn(D_in, D_out)\n",
        "\n",
        "print(w)\n",
        "print(w.shape)"
      ],
      "execution_count": 0,
      "outputs": []
    },
    {
      "cell_type": "code",
      "metadata": {
        "id": "HPFz65FiPKmn",
        "colab_type": "code",
        "colab": {}
      },
      "source": [
        "learning_rate = 1e-5\n",
        "loss_list = []\n",
        "\n"
      ],
      "execution_count": 0,
      "outputs": []
    },
    {
      "cell_type": "code",
      "metadata": {
        "id": "NNm6egQBaLdy",
        "colab_type": "code",
        "colab": {}
      },
      "source": [
        "# Forward pass: compute predicted y\n",
        "y_pred = x_numpy.dot(w)\n",
        "print(y_pred)\n"
      ],
      "execution_count": 0,
      "outputs": []
    },
    {
      "cell_type": "code",
      "metadata": {
        "id": "pUWfDOFtSgIm",
        "colab_type": "code",
        "colab": {}
      },
      "source": [
        "# Compute and print loss\n",
        "loss = np.square(y_pred - y_numpy).sum()\n",
        "\n",
        "# Backprop to compute gradients of w1 and w2 with respect to loss\n",
        "grad_y_pred = 2.0 * (y_pred - y_numpy)\n",
        "grad_w = x_numpy.T.dot(grad_y_pred)\n",
        "\n",
        "# Update weights\n",
        "w = w - learning_rate * grad_w\n",
        "print(w)"
      ],
      "execution_count": 0,
      "outputs": []
    },
    {
      "cell_type": "code",
      "metadata": {
        "id": "KBRbjAooSzs3",
        "colab_type": "code",
        "colab": {}
      },
      "source": [
        ""
      ],
      "execution_count": 0,
      "outputs": []
    },
    {
      "cell_type": "code",
      "metadata": {
        "id": "heXJqSquaVh4",
        "colab_type": "code",
        "colab": {}
      },
      "source": [
        "plt.plot(loss_list, label = 'loss')\n",
        "plt.legend()\n",
        "plt.show()"
      ],
      "execution_count": 0,
      "outputs": []
    },
    {
      "cell_type": "code",
      "metadata": {
        "id": "j-WQQA9COshP",
        "colab_type": "code",
        "colab": {}
      },
      "source": [
        ""
      ],
      "execution_count": 0,
      "outputs": []
    }
  ]
}