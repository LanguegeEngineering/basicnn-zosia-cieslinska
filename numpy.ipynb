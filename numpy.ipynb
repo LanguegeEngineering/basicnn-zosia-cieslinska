{
  "nbformat": 4,
  "nbformat_minor": 0,
  "metadata": {
    "colab": {
      "name": "numpy.ipynb",
      "provenance": []
    },
    "kernelspec": {
      "name": "python3",
      "display_name": "Python 3"
    }
  },
  "cells": [
    {
      "cell_type": "code",
      "metadata": {
        "id": "D0U8H6t8ZC37",
        "colab_type": "code",
        "colab": {}
      },
      "source": [
        "import numpy as np"
      ],
      "execution_count": 0,
      "outputs": []
    },
    {
      "cell_type": "markdown",
      "metadata": {
        "id": "WQoCKMOFZKnv",
        "colab_type": "text"
      },
      "source": [
        "Numpy to biblioteka służąca do operacji na macierzach "
      ]
    },
    {
      "cell_type": "code",
      "metadata": {
        "id": "4o0xdDaPZMg9",
        "colab_type": "code",
        "colab": {}
      },
      "source": [
        "a = np.arange(15).reshape(3, 5)\n",
        "print(a)\n",
        "\n",
        "print(\"a size is {}\".format(a.shape))\n",
        "print('\\n')\n",
        "\n",
        "b = a.reshape(5,3)\n",
        "print(b)\n",
        "print('\\n')\n",
        "\n",
        "\n",
        "zero_matrix = np.zeros((2,3))\n",
        "print(zero_matrix)\n",
        "print('\\n')\n",
        "one_matrix = np.ones((4,2))\n",
        "print(one_matrix)\n"
      ],
      "execution_count": 0,
      "outputs": []
    },
    {
      "cell_type": "markdown",
      "metadata": {
        "id": "OqS-VQXDZPHk",
        "colab_type": "text"
      },
      "source": [
        "Podstawowe operacje na macierzach:"
      ]
    },
    {
      "cell_type": "code",
      "metadata": {
        "id": "_Q0Pg5ObZRSk",
        "colab_type": "code",
        "colab": {}
      },
      "source": [
        "A = np.array( [[1,1],\n",
        "               [0,1]] )\n",
        "print(\"A\")\n",
        "print(A)\n",
        "print('\\n')\n",
        "\n",
        "B = np.array( [[2,0],\n",
        "               [3,4]] )\n",
        "\n",
        "print(\"B\")\n",
        "print(B)\n",
        "print('\\n')\n",
        "\n",
        "print('B\\'')\n",
        "print(B.T)\n",
        "print('\\n')\n",
        "\n",
        "print(\"A * B\")\n",
        "print(A * B)\n",
        "print('\\n')\n",
        "\n",
        "print(\"A x B\")\n",
        "print(A.dot(B))\n",
        "print('\\n')\n",
        "\n",
        "print(\"B x A\")\n",
        "print(B.dot(A))\n",
        "print('\\n')\n",
        "\n",
        "print(\"A - B\")\n",
        "print(A-B)\n",
        "print('\\n')\n",
        "\n",
        "print(\"A + B\")\n",
        "print(A+B)\n",
        "print('\\n')\n",
        "\n",
        "print(\"A + 3\")\n",
        "print(A+3)\n",
        "print('\\n')\n",
        "\n",
        "print(\"B^2\")\n",
        "print(B*2)\n",
        "print('\\n')"
      ],
      "execution_count": 0,
      "outputs": []
    },
    {
      "cell_type": "markdown",
      "metadata": {
        "id": "6zpB125fZVYP",
        "colab_type": "text"
      },
      "source": [
        "### Zadanie\n",
        "\n",
        "Korzystając z powyższych informacji  i mnożenia macieży skonstruować \"tabliczkę mnożenia\"."
      ]
    },
    {
      "cell_type": "code",
      "metadata": {
        "id": "kYLiTkm8WGx0",
        "colab_type": "code",
        "colab": {}
      },
      "source": [
        ""
      ],
      "execution_count": 0,
      "outputs": []
    }
  ]
}